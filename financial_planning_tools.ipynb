{
 "cells": [
  {
   "cell_type": "markdown",
   "metadata": {},
   "source": [
    "# Financial Planning with APIs and Simulations\n",
    "\n",
    "In this Challenge, you’ll create two financial analysis tools by using a single Jupyter notebook:\n",
    "\n",
    "Part 1: A financial planner for emergencies. The members will be able to use this tool to visualize their current savings. The members can then determine if they have enough reserves for an emergency fund.\n",
    "\n",
    "Part 2: A financial planner for retirement. This tool will forecast the performance of their retirement portfolio in 30 years. To do this, the tool will make an Alpaca API call via the Alpaca SDK to get historical price data for use in Monte Carlo simulations.\n",
    "\n",
    "You’ll use the information from the Monte Carlo simulation to answer questions about the portfolio in your Jupyter notebook.\n",
    "\n"
   ]
  },
  {
   "cell_type": "code",
   "execution_count": 1,
   "metadata": {},
   "outputs": [],
   "source": [
    "# Import the required libraries and dependencies\n",
    "import os\n",
    "import requests\n",
    "import json\n",
    "import pandas as pd\n",
    "from dotenv import load_dotenv\n",
    "import alpaca_trade_api as tradeapi\n",
    "from MCForecastTools import MCSimulation\n",
    "\n",
    "%matplotlib inline"
   ]
  },
  {
   "cell_type": "code",
   "execution_count": 2,
   "metadata": {},
   "outputs": [
    {
     "data": {
      "text/plain": [
       "True"
      ]
     },
     "execution_count": 2,
     "metadata": {},
     "output_type": "execute_result"
    }
   ],
   "source": [
    "# Load the environment variables from the .env file\n",
    "#by calling the load_dotenv function\n",
    "load_dotenv()"
   ]
  },
  {
   "cell_type": "markdown",
   "metadata": {},
   "source": [
    "## Part 1: Create a Financial Planner for Emergencies"
   ]
  },
  {
   "cell_type": "markdown",
   "metadata": {},
   "source": [
    "### Evaluate the Cryptocurrency Wallet by Using the Requests Library\n",
    "\n",
    "In this section, you’ll determine the current value of a member’s cryptocurrency wallet. You’ll collect the current prices for the Bitcoin and Ethereum cryptocurrencies by using the Python Requests library. For the prototype, you’ll assume that the member holds the 1.2 Bitcoins (BTC) and 5.3 Ethereum coins (ETH). To do all this, complete the following steps:\n",
    "\n",
    "1. Create a variable named `monthly_income`, and set its value to `12000`.\n",
    "\n",
    "2. Use the Requests library to get the current price (in US dollars) of Bitcoin (BTC) and Ethereum (ETH) by using the API endpoints that the starter code supplies.\n",
    "\n",
    "3. Navigate the JSON response object to access the current price of each coin, and store each in a variable.\n",
    "\n",
    "    > **Hint** Note the specific identifier for each cryptocurrency in the API JSON response. The Bitcoin identifier is `1`, and the Ethereum identifier is `1027`.\n",
    "\n",
    "4. Calculate the value, in US dollars, of the current amount of each cryptocurrency and of the entire cryptocurrency wallet.\n",
    "\n"
   ]
  },
  {
   "cell_type": "code",
   "execution_count": 3,
   "metadata": {},
   "outputs": [],
   "source": [
    "# The current number of coins for each cryptocurrency asset held in the portfolio.\n",
    "btc_coins = 1.2\n",
    "eth_coins = 5.3"
   ]
  },
  {
   "cell_type": "markdown",
   "metadata": {},
   "source": [
    "#### Step 1: Create a variable named `monthly_income`, and set its value to `12000`."
   ]
  },
  {
   "cell_type": "code",
   "execution_count": 4,
   "metadata": {},
   "outputs": [],
   "source": [
    "# The monthly amount for the member's household income\n",
    "# YOUR CODE HERE\n",
    "monthly_income=12000"
   ]
  },
  {
   "cell_type": "markdown",
   "metadata": {},
   "source": [
    "#### Review the endpoint URLs for the API calls to Free Crypto API in order to get the current pricing information for both BTC and ETH."
   ]
  },
  {
   "cell_type": "code",
   "execution_count": 5,
   "metadata": {},
   "outputs": [],
   "source": [
    "# The Free Crypto API Call endpoint URLs for the held cryptocurrency assets\n",
    "btc_url = \"https://api.alternative.me/v2/ticker/Bitcoin/?convert=USD\"\n",
    "eth_url = \"https://api.alternative.me/v2/ticker/Ethereum/?convert=USD\""
   ]
  },
  {
   "cell_type": "markdown",
   "metadata": {},
   "source": [
    "#### Step 2. Use the Requests library to get the current price (in US dollars) of Bitcoin (BTC) and Ethereum (ETH) by using the API endpoints that the starter code supplied."
   ]
  },
  {
   "cell_type": "code",
   "execution_count": 18,
   "metadata": {},
   "outputs": [
    {
     "data": {
      "text/plain": [
       "'{\\n  \"data\": {\\n    \"1\": {\\n      \"circulating_supply\": 19255475,\\n      \"id\": 1,\\n      \"last_updated\": 1673129388,\\n      \"max_supply\": 21000000,\\n      \"name\": \"Bitcoin\",\\n      \"quotes\": {\\n        \"USD\": {\\n          \"market_cap\": 326341931282,\\n          \"percent_change_1h\": 0.0730556345030101,\\n          \"percent_change_24h\": 0.157210359636757,\\n          \"percent_change_7d\": 2.11406604481781,\\n          \"percentage_change_1h\": 0.0730556345030101,\\n          \"percentage_change_24h\": 0.157210359636757,\\n          \"percentage_change_7d\": 2.11406604481781,\\n          \"price\": 16955.04,\\n          \"volume_24h\": 10034928793\\n        }\\n      },\\n      \"rank\": 1,\\n      \"symbol\": \"BTC\",\\n      \"total_supply\": 19255475,\\n      \"website_slug\": \"bitcoin\"\\n    }\\n  },\\n  \"metadata\": {\\n    \"error\": null,\\n    \"num_cryptocurrencies\": 3119,\\n    \"timestamp\": 1673129388\\n  }\\n}'"
      ]
     },
     "execution_count": 18,
     "metadata": {},
     "output_type": "execute_result"
    }
   ],
   "source": [
    "# Using the Python requests library, make an API call to access the current price of BTC\n",
    "btc_response = requests.get(btc_url).json()\n",
    "\n",
    "# Use the json.dumps function to review the response data from the API call\n",
    "# Use the indent and sort_keys parameters to make the response object readable\n",
    "json.dumps(btc_response,indent=2,sort_keys=True)"
   ]
  },
  {
   "cell_type": "code",
   "execution_count": 10,
   "metadata": {},
   "outputs": [
    {
     "data": {
      "text/plain": [
       "'{\\n      \"data\": {\\n            \"1027\": {\\n                  \"circulating_supply\": 120524498,\\n                  \"id\": 1027,\\n                  \"last_updated\": 1673129073,\\n                  \"max_supply\": 120524498,\\n                  \"name\": \"Ethereum\",\\n                  \"quotes\": {\\n                        \"USD\": {\\n                              \"market_cap\": 152489313329,\\n                              \"percent_change_1h\": 0.0137444793538388,\\n                              \"percent_change_24h\": -0.119618227802752,\\n                              \"percent_change_7d\": 5.48461863429554,\\n                              \"percentage_change_1h\": 0.0137444793538388,\\n                              \"percentage_change_24h\": -0.119618227802752,\\n                              \"percentage_change_7d\": 5.48461863429554,\\n                              \"price\": 1264.88,\\n                              \"volume_24h\": 2446384207\\n                        }\\n                  },\\n                  \"rank\": 2,\\n                  \"symbol\": \"ETH\",\\n                  \"total_supply\": 120524498,\\n                  \"website_slug\": \"ethereum\"\\n            }\\n      },\\n      \"metadata\": {\\n            \"error\": null,\\n            \"num_cryptocurrencies\": 3119,\\n            \"timestamp\": 1673129073\\n      }\\n}'"
      ]
     },
     "execution_count": 10,
     "metadata": {},
     "output_type": "execute_result"
    }
   ],
   "source": [
    "# Using the Python requests library, make an API call to access the current price ETH\n",
    "eth_response = requests.get(eth_url).json()\n",
    "\n",
    "# Use the json.dumps function to review the response data from the API call\n",
    "# Use the indent and sort_keys parameters to make the response object readable\n",
    "json.dumps(eth_response,indent=6,sort_keys=True)\n"
   ]
  },
  {
   "cell_type": "markdown",
   "metadata": {},
   "source": [
    "#### Step 3: Navigate the JSON response object to access the current price of each coin, and store each in a variable."
   ]
  },
  {
   "cell_type": "code",
   "execution_count": 33,
   "metadata": {},
   "outputs": [
    {
     "name": "stdout",
     "output_type": "stream",
     "text": [
      "The current price of bitcoin is $16955.04 USD\n"
     ]
    }
   ],
   "source": [
    "# Navigate the BTC response object to access the current price of BTC\n",
    "btc_price = btc_response[\"data\"][\"1\"][\"quotes\"][\"USD\"][\"price\"]\n",
    "\n",
    "# Print the current price of BTC\n",
    "# YOUR CODE HERE\n",
    "print(f\"The current price of bitcoin is ${btc_price} USD\")"
   ]
  },
  {
   "cell_type": "code",
   "execution_count": 34,
   "metadata": {},
   "outputs": [
    {
     "name": "stdout",
     "output_type": "stream",
     "text": [
      "The current price of ETH is $1264.88 USD\n"
     ]
    }
   ],
   "source": [
    "# Navigate the BTC response object to access the current price of ETH\n",
    "eth_price = eth_response[\"data\"][\"1027\"][\"quotes\"][\"USD\"][\"price\"]\n",
    "\n",
    "# Print the current price of ETH\n",
    "print(f\"The current price of ETH is ${eth_price} USD\")\n"
   ]
  },
  {
   "cell_type": "markdown",
   "metadata": {},
   "source": [
    "### Step 4: Calculate the value, in US dollars, of the current amount of each cryptocurrency and of the entire cryptocurrency wallet."
   ]
  },
  {
   "cell_type": "code",
   "execution_count": 40,
   "metadata": {},
   "outputs": [
    {
     "name": "stdout",
     "output_type": "stream",
     "text": [
      "The current value of your holding in BTC is $20346.05\n"
     ]
    }
   ],
   "source": [
    "# Compute the current value of the BTC holding \n",
    "btc_value = btc_coins*btc_price\n",
    "\n",
    "# Print current value of your holding in BTC\n",
    "print(f\"The current value of your holding in BTC is ${btc_value:.2f}\")\n"
   ]
  },
  {
   "cell_type": "code",
   "execution_count": 41,
   "metadata": {},
   "outputs": [
    {
     "name": "stdout",
     "output_type": "stream",
     "text": [
      "The current value of your holding in ETH is $6703.86\n"
     ]
    }
   ],
   "source": [
    "# Compute the current value of the ETH holding \n",
    "eth_value = eth_coins*eth_price\n",
    "\n",
    "# Print current value of your holding in ETH\n",
    "print(f\"The current value of your holding in ETH is ${eth_value:.2f}\")\n"
   ]
  },
  {
   "cell_type": "code",
   "execution_count": 42,
   "metadata": {},
   "outputs": [
    {
     "name": "stdout",
     "output_type": "stream",
     "text": [
      "The total value of your cryptocurrency wallet is $27049.91\n"
     ]
    }
   ],
   "source": [
    "# Compute the total value of the cryptocurrency wallet\n",
    "# Add the value of the BTC holding to the value of the ETH holding\n",
    "total_crypto_wallet = btc_value+eth_value\n",
    "\n",
    "# Print current cryptocurrency wallet balance\n",
    "print(f\"The total value of your cryptocurrency wallet is ${total_crypto_wallet:.2f}\")\n"
   ]
  },
  {
   "cell_type": "markdown",
   "metadata": {},
   "source": [
    "### Evaluate the Stock and Bond Holdings by Using the Alpaca SDK\n",
    "\n",
    "In this section, you’ll determine the current value of a member’s stock and bond holdings. You’ll make an API call to Alpaca via the Alpaca SDK to get the current closing prices of the SPDR S&P 500 ETF Trust (ticker: SPY) and of the iShares Core US Aggregate Bond ETF (ticker: AGG). For the prototype, assume that the member holds 110 shares of SPY, which represents the stock portion of their portfolio, and 200 shares of AGG, which represents the bond portion. To do all this, complete the following steps:\n",
    "\n",
    "1. In the `Starter_Code` folder, create an environment file (`.env`) to store the values of your Alpaca API key and Alpaca secret key.\n",
    "\n",
    "2. Set the variables for the Alpaca API and secret keys. Using the Alpaca SDK, create the Alpaca `tradeapi.REST` object. In this object, include the parameters for the Alpaca API key, the secret key, and the version number.\n",
    "\n",
    "3. Set the following parameters for the Alpaca API call:\n",
    "\n",
    "    - `tickers`: Use the tickers for the member’s stock and bond holdings.\n",
    "\n",
    "    - `timeframe`: Use a time frame of one day.\n",
    "\n",
    "    - `start_date` and `end_date`: Use the same date for these parameters, and format them with the date of the previous weekday (or `2020-08-07`). This is because you want the one closing price for the most-recent trading day.\n",
    "\n",
    "4. Get the current closing prices for `SPY` and `AGG` by using the Alpaca `get_bars` function. Format the response as a Pandas DataFrame by including the `df` property at the end of the `get_bars` function.\n",
    "\n",
    "5. Navigating the Alpaca response DataFrame, select the `SPY` and `AGG` closing prices, and store them as variables.\n",
    "\n",
    "6. Calculate the value, in US dollars, of the current amount of shares in each of the stock and bond portions of the portfolio, and print the results.\n"
   ]
  },
  {
   "cell_type": "markdown",
   "metadata": {},
   "source": [
    "#### Review the total number of shares held in both (SPY) and (AGG)."
   ]
  },
  {
   "cell_type": "code",
   "execution_count": 43,
   "metadata": {},
   "outputs": [],
   "source": [
    "# Current amount of shares held in both the stock (SPY) and bond (AGG) portion of the portfolio.\n",
    "spy_shares = 110\n",
    "agg_shares = 200\n"
   ]
  },
  {
   "cell_type": "markdown",
   "metadata": {},
   "source": [
    "#### Step 1: In the `Starter_Code` folder, create an environment file (`.env`) to store the values of your Alpaca API key and Alpaca secret key."
   ]
  },
  {
   "cell_type": "markdown",
   "metadata": {},
   "source": [
    "#### Step 2: Set the variables for the Alpaca API and secret keys. Using the Alpaca SDK, create the Alpaca `tradeapi.REST` object. In this object, include the parameters for the Alpaca API key, the secret key, and the version number."
   ]
  },
  {
   "cell_type": "code",
   "execution_count": 47,
   "metadata": {},
   "outputs": [],
   "source": [
    "# Set the variables for the Alpaca API and secret keys\n",
    "load_dotenv()\n",
    "alpaca_api_key=os.getenv(\"ALPACA_API_KEY\")\n",
    "alpaca_secret_key=os.getenv(\"ALPACA_SECRET_KEY\")\n",
    "\n",
    "# Create the Alpaca tradeapi.REST object\n",
    "alpaca=tradeapi.REST(\n",
    "    alpaca_api_key,\n",
    "    alpaca_secret_key,\n",
    "    api_version=\"v2\"\n",
    ")"
   ]
  },
  {
   "cell_type": "markdown",
   "metadata": {},
   "source": [
    "#### Step 3: Set the following parameters for the Alpaca API call:\n",
    "\n",
    "- `tickers`: Use the tickers for the member’s stock and bond holdings.\n",
    "\n",
    "- `timeframe`: Use a time frame of one day.\n",
    "\n",
    "- `start_date` and `end_date`: Use the same date for these parameters, and format them with the date of the previous weekday (or `2020-08-07`). This is because you want the one closing price for the most-recent trading day.\n"
   ]
  },
  {
   "cell_type": "code",
   "execution_count": 83,
   "metadata": {},
   "outputs": [],
   "source": [
    "# Set the tickers for both the bond and stock portion of the portfolio\n",
    "tickers=['SPY','AGG']\n",
    "\n",
    "# Set timeframe to 1Day\n",
    "timeframe=\"1Day\"\n",
    "\n",
    "# Format current date as ISO format\n",
    "# Set both the start and end date at the date of your prior weekday \n",
    "# This will give you the closing price of the previous trading day\n",
    "# Alternatively you can use a start and end date of 2020-08-07\n",
    "start_date=pd.Timestamp(\"2020-01-06\",tz=\"America/New_York\").isoformat()\n",
    "end_date=pd.Timestamp(\"2020-01-06\",tz=\"America/New_York\").isoformat()\n"
   ]
  },
  {
   "cell_type": "markdown",
   "metadata": {},
   "source": [
    "#### Step 4: Get the current closing prices for `SPY` and `AGG` by using the Alpaca `get_bars` function. Format the response as a Pandas DataFrame by including the `df` property at the end of the `get_bars` function."
   ]
  },
  {
   "cell_type": "code",
   "execution_count": 84,
   "metadata": {},
   "outputs": [
    {
     "data": {
      "text/html": [
       "<div>\n",
       "<style scoped>\n",
       "    .dataframe tbody tr th:only-of-type {\n",
       "        vertical-align: middle;\n",
       "    }\n",
       "\n",
       "    .dataframe tbody tr th {\n",
       "        vertical-align: top;\n",
       "    }\n",
       "\n",
       "    .dataframe thead tr th {\n",
       "        text-align: left;\n",
       "    }\n",
       "\n",
       "    .dataframe thead tr:last-of-type th {\n",
       "        text-align: right;\n",
       "    }\n",
       "</style>\n",
       "<table border=\"1\" class=\"dataframe\">\n",
       "  <thead>\n",
       "    <tr>\n",
       "      <th></th>\n",
       "      <th colspan=\"7\" halign=\"left\">SPY</th>\n",
       "      <th colspan=\"7\" halign=\"left\">AGG</th>\n",
       "    </tr>\n",
       "    <tr>\n",
       "      <th></th>\n",
       "      <th>open</th>\n",
       "      <th>high</th>\n",
       "      <th>low</th>\n",
       "      <th>close</th>\n",
       "      <th>volume</th>\n",
       "      <th>trade_count</th>\n",
       "      <th>vwap</th>\n",
       "      <th>open</th>\n",
       "      <th>high</th>\n",
       "      <th>low</th>\n",
       "      <th>close</th>\n",
       "      <th>volume</th>\n",
       "      <th>trade_count</th>\n",
       "      <th>vwap</th>\n",
       "    </tr>\n",
       "    <tr>\n",
       "      <th>timestamp</th>\n",
       "      <th></th>\n",
       "      <th></th>\n",
       "      <th></th>\n",
       "      <th></th>\n",
       "      <th></th>\n",
       "      <th></th>\n",
       "      <th></th>\n",
       "      <th></th>\n",
       "      <th></th>\n",
       "      <th></th>\n",
       "      <th></th>\n",
       "      <th></th>\n",
       "      <th></th>\n",
       "      <th></th>\n",
       "    </tr>\n",
       "  </thead>\n",
       "  <tbody>\n",
       "    <tr>\n",
       "      <th>2020-01-06 05:00:00+00:00</th>\n",
       "      <td>320.49</td>\n",
       "      <td>323.73</td>\n",
       "      <td>320.36</td>\n",
       "      <td>323.73</td>\n",
       "      <td>55817168</td>\n",
       "      <td>255767</td>\n",
       "      <td>322.722391</td>\n",
       "      <td>113.13</td>\n",
       "      <td>113.13</td>\n",
       "      <td>112.84</td>\n",
       "      <td>112.92</td>\n",
       "      <td>8131608</td>\n",
       "      <td>17277</td>\n",
       "      <td>112.9496</td>\n",
       "    </tr>\n",
       "  </tbody>\n",
       "</table>\n",
       "</div>"
      ],
      "text/plain": [
       "                              SPY                                    \\\n",
       "                             open    high     low   close    volume   \n",
       "timestamp                                                             \n",
       "2020-01-06 05:00:00+00:00  320.49  323.73  320.36  323.73  55817168   \n",
       "\n",
       "                                                      AGG                  \\\n",
       "                          trade_count        vwap    open    high     low   \n",
       "timestamp                                                                   \n",
       "2020-01-06 05:00:00+00:00      255767  322.722391  113.13  113.13  112.84   \n",
       "\n",
       "                                                                  \n",
       "                            close   volume trade_count      vwap  \n",
       "timestamp                                                         \n",
       "2020-01-06 05:00:00+00:00  112.92  8131608       17277  112.9496  "
      ]
     },
     "execution_count": 84,
     "metadata": {},
     "output_type": "execute_result"
    }
   ],
   "source": [
    "# Use the Alpaca get_bars function to get current closing prices the portfolio\n",
    "# Be sure to set the `df` property after the function to format the response object as a DataFrame\n",
    "df=alpaca.get_bars(tickers,timeframe,start=start_date,end=end_date).df\n",
    "\n",
    "# Reorganize the DataFrame\n",
    "# Separate ticker data\n",
    "SPY=df[df['symbol']=='SPY'].drop('symbol',axis=1)\n",
    "AGG=df[df['symbol']=='AGG'].drop('symbol', axis=1)\n",
    "# Concatenate the ticker DataFrames\n",
    "df_new=pd.concat((SPY,AGG),axis=1,keys=['SPY','AGG'])\n",
    "\n",
    "# Review the first 5 rows of the Alpaca DataFrame\n",
    "# YOUR CODE HERE\n",
    "df_new.head()"
   ]
  },
  {
   "cell_type": "markdown",
   "metadata": {},
   "source": [
    "#### Step 5: Navigating the Alpaca response DataFrame, select the `SPY` and `AGG` closing prices, and store them as variables."
   ]
  },
  {
   "cell_type": "code",
   "execution_count": 90,
   "metadata": {},
   "outputs": [
    {
     "name": "stdout",
     "output_type": "stream",
     "text": [
      "The closing price of AGG on January 6, 2023 was $112.92.\n"
     ]
    }
   ],
   "source": [
    "# Access the closing price for AGG from the Alpaca DataFrame\n",
    "# Converting the value to a floating point number\n",
    "agg_close_price = float(df_new['AGG']['close'])\n",
    "\n",
    "# Print the AGG closing price\n",
    "print(f\"The closing price of AGG on January 6, 2023 was ${agg_close_price:.2f}.\")\n"
   ]
  },
  {
   "cell_type": "code",
   "execution_count": 93,
   "metadata": {},
   "outputs": [
    {
     "name": "stdout",
     "output_type": "stream",
     "text": [
      "The closing price of SPY on January 6, 2023 was $323.73.\n"
     ]
    }
   ],
   "source": [
    "# Access the closing price for SPY from the Alpaca DataFrame\n",
    "# Converting the value to a floating point number\n",
    "spy_close_price = float(df_new['SPY']['close'])\n",
    "\n",
    "# Print the SPY closing price\n",
    "print(f\"The closing price of SPY on January 6, 2023 was ${spy_close_price:.2f}.\")\n"
   ]
  },
  {
   "cell_type": "markdown",
   "metadata": {},
   "source": [
    "#### Step 6: Calculate the value, in US dollars, of the current amount of shares in each of the stock and bond portions of the portfolio, and print the results."
   ]
  },
  {
   "cell_type": "code",
   "execution_count": 99,
   "metadata": {},
   "outputs": [
    {
     "name": "stdout",
     "output_type": "stream",
     "text": [
      "The current value of the held AGG bonds is $22584.00.\n"
     ]
    }
   ],
   "source": [
    "# Calculate the current value of the bond portion of the portfolio\n",
    "agg_value = agg_close_price*agg_shares\n",
    "\n",
    "# Print the current value of the bond portfolio\n",
    "print(f\"The current value of the held AGG bonds is ${agg_value:.2f}.\")\n"
   ]
  },
  {
   "cell_type": "code",
   "execution_count": 98,
   "metadata": {},
   "outputs": [
    {
     "name": "stdout",
     "output_type": "stream",
     "text": [
      "The current value of the held SPY shares is $35610.30.\n"
     ]
    }
   ],
   "source": [
    "# Calculate the current value of the stock portion of the portfolio\n",
    "spy_value = spy_close_price*spy_shares\n",
    "\n",
    "# Print the current value of the stock portfolio\n",
    "print(f\"The current value of the held SPY shares is ${spy_value:.2f}.\")\n"
   ]
  },
  {
   "cell_type": "code",
   "execution_count": 101,
   "metadata": {},
   "outputs": [
    {
     "name": "stdout",
     "output_type": "stream",
     "text": [
      "The total balance of the stock and bond portfolio is $58194.30.\n"
     ]
    }
   ],
   "source": [
    "# Calculate the total value of the stock and bond portion of the portfolio\n",
    "total_stocks_bonds = agg_value+spy_value\n",
    "\n",
    "# Print the current balance of the stock and bond portion of the portfolio\n",
    "print(f\"The total balance of the stock and bond portfolio is ${total_stocks_bonds:.2f}.\")\n"
   ]
  },
  {
   "cell_type": "code",
   "execution_count": 102,
   "metadata": {},
   "outputs": [
    {
     "name": "stdout",
     "output_type": "stream",
     "text": [
      "The total cryptocurrency wallet balance is $85244.21.\n"
     ]
    }
   ],
   "source": [
    "# Calculate the total value of the member's entire savings portfolio\n",
    "# Add the value of the cryptocurrency walled to the value of the total stocks and bonds\n",
    "total_portfolio = total_stocks_bonds+total_crypto_wallet\n",
    "\n",
    "# Print current cryptocurrency wallet balance\n",
    "print(f\"The total cryptocurrency wallet balance is ${total_portfolio:.2f}.\")\n"
   ]
  },
  {
   "cell_type": "markdown",
   "metadata": {},
   "source": [
    "### Evaluate the Emergency Fund\n",
    "\n",
    "In this section, you’ll use the valuations for the cryptocurrency wallet and for the stock and bond portions of the portfolio to determine if the credit union member has enough savings to build an emergency fund into their financial plan. To do this, complete the following steps:\n",
    "\n",
    "1. Create a Python list named `savings_data` that has two elements. The first element contains the total value of the cryptocurrency wallet. The second element contains the total value of the stock and bond portions of the portfolio.\n",
    "\n",
    "2. Use the `savings_data` list to create a Pandas DataFrame named `savings_df`, and then display this DataFrame. The function to create the DataFrame should take the following three parameters:\n",
    "\n",
    "    - `savings_data`: Use the list that you just created.\n",
    "\n",
    "    - `columns`: Set this parameter equal to a Python list with a single value called `amount`.\n",
    "\n",
    "    - `index`: Set this parameter equal to a Python list with the values of `crypto` and `stock/bond`.\n",
    "\n",
    "3. Use the `savings_df` DataFrame to plot a pie chart that visualizes the composition of the member’s portfolio. The y-axis of the pie chart uses `amount`. Be sure to add a title.\n",
    "\n",
    "4. Using Python, determine if the current portfolio has enough to create an emergency fund as part of the member’s financial plan. Ideally, an emergency fund should equal to three times the member’s monthly income. To do this, implement the following steps:\n",
    "\n",
    "    1. Create a variable named `emergency_fund_value`, and set it equal to three times the value of the member’s `monthly_income` of $12000. (You set this earlier in Part 1).\n",
    "\n",
    "    2. Create a series of three if statements to determine if the member’s total portfolio is large enough to fund the emergency portfolio:\n",
    "\n",
    "        1. If the total portfolio value is greater than the emergency fund value, display a message congratulating the member for having enough money in this fund.\n",
    "\n",
    "        2. Else if the total portfolio value is equal to the emergency fund value, display a message congratulating the member on reaching this important financial goal.\n",
    "\n",
    "        3. Else the total portfolio is less than the emergency fund value, so display a message showing how many dollars away the member is from reaching the goal. (Subtract the total portfolio value from the emergency fund value.)\n"
   ]
  },
  {
   "cell_type": "markdown",
   "metadata": {},
   "source": [
    "#### Step 1: Create a Python list named `savings_data` that has two elements. The first element contains the total value of the cryptocurrency wallet. The second element contains the total value of the stock and bond portions of the portfolio."
   ]
  },
  {
   "cell_type": "code",
   "execution_count": 103,
   "metadata": {},
   "outputs": [
    {
     "data": {
      "text/plain": [
       "[27049.912, 58194.3]"
      ]
     },
     "execution_count": 103,
     "metadata": {},
     "output_type": "execute_result"
    }
   ],
   "source": [
    "# Consolidate financial assets data into a Python list\n",
    "# YOUR CODE HERE\n",
    "savings_data=[total_crypto_wallet,total_stocks_bonds]\n",
    "# Review the Python list savings_data\n",
    "savings_data\n",
    "    "
   ]
  },
  {
   "cell_type": "markdown",
   "metadata": {},
   "source": [
    "#### Step 2: Use the `savings_data` list to create a Pandas DataFrame named `savings_df`, and then display this DataFrame. The function to create the DataFrame should take the following three parameters:\n",
    "\n",
    "- `savings_data`: Use the list that you just created.\n",
    "\n",
    "- `columns`: Set this parameter equal to a Python list with a single value called `amount`.\n",
    "\n",
    "- `index`: Set this parameter equal to a Python list with the values of `crypto` and `stock/bond`.\n"
   ]
  },
  {
   "cell_type": "code",
   "execution_count": 105,
   "metadata": {},
   "outputs": [
    {
     "data": {
      "text/html": [
       "<div>\n",
       "<style scoped>\n",
       "    .dataframe tbody tr th:only-of-type {\n",
       "        vertical-align: middle;\n",
       "    }\n",
       "\n",
       "    .dataframe tbody tr th {\n",
       "        vertical-align: top;\n",
       "    }\n",
       "\n",
       "    .dataframe thead th {\n",
       "        text-align: right;\n",
       "    }\n",
       "</style>\n",
       "<table border=\"1\" class=\"dataframe\">\n",
       "  <thead>\n",
       "    <tr style=\"text-align: right;\">\n",
       "      <th></th>\n",
       "      <th>amount</th>\n",
       "    </tr>\n",
       "  </thead>\n",
       "  <tbody>\n",
       "    <tr>\n",
       "      <th>crypto</th>\n",
       "      <td>27049.912</td>\n",
       "    </tr>\n",
       "    <tr>\n",
       "      <th>stock/bond</th>\n",
       "      <td>58194.300</td>\n",
       "    </tr>\n",
       "  </tbody>\n",
       "</table>\n",
       "</div>"
      ],
      "text/plain": [
       "               amount\n",
       "crypto      27049.912\n",
       "stock/bond  58194.300"
      ]
     },
     "execution_count": 105,
     "metadata": {},
     "output_type": "execute_result"
    }
   ],
   "source": [
    "# Create a Pandas DataFrame called savings_df \n",
    "savings_df=pd.DataFrame(savings_data,columns=['amount'],index=['crypto','stock/bond'])\n",
    "\n",
    "# Display the savings_df DataFrame\n",
    "savings_df"
   ]
  },
  {
   "cell_type": "markdown",
   "metadata": {},
   "source": [
    "#### Step 3: Use the `savings_df` DataFrame to plot a pie chart that visualizes the composition of the member’s portfolio. The y-axis of the pie chart uses `amount`. Be sure to add a title."
   ]
  },
  {
   "cell_type": "code",
   "execution_count": 107,
   "metadata": {},
   "outputs": [
    {
     "data": {
      "text/plain": [
       "<AxesSubplot:title={'center':'Portfolio Breakdown'}, ylabel='amount'>"
      ]
     },
     "execution_count": 107,
     "metadata": {},
     "output_type": "execute_result"
    },
    {
     "data": {
      "image/png": "[encoded data removed]",
      "text/plain": [
       "<Figure size 640x480 with 1 Axes>"
      ]
     },
     "metadata": {},
     "output_type": "display_data"
    }
   ],
   "source": [
    "# Plot the total value of the member's portfolio (crypto and stock/bond) in a pie chart\n",
    "savings_df.plot.pie(title=\"Portfolio Breakdown\",y=\"amount\")\n"
   ]
  },
  {
   "cell_type": "markdown",
   "metadata": {},
   "source": [
    "#### Step 4: Using Python, determine if the current portfolio has enough to create an emergency fund as part of the member’s financial plan. Ideally, an emergency fund should equal to three times the member’s monthly income. To do this, implement the following steps:\n",
    "\n",
    "Step 1. Create a variable named `emergency_fund_value`, and set it equal to three times the value of the member’s `monthly_income` of 12000. (You set this earlier in Part 1).\n",
    "\n",
    "Step 2. Create a series of three if statements to determine if the member’s total portfolio is large enough to fund the emergency portfolio:\n",
    "\n",
    "* If the total portfolio value is greater than the emergency fund value, display a message congratulating the member for having enough money in this fund.\n",
    "\n",
    "* Else if the total portfolio value is equal to the emergency fund value, display a message congratulating the member on reaching this important financial goal.\n",
    "\n",
    "* Else the total portfolio is less than the emergency fund value, so display a message showing how many dollars away the member is from reaching the goal. (Subtract the total portfolio value from the emergency fund value.)\n"
   ]
  },
  {
   "cell_type": "markdown",
   "metadata": {},
   "source": [
    "##### Step 4-1: Create a variable named `emergency_fund_value`, and set it equal to three times the value of the member’s `monthly_income` of 12000. (You set this earlier in Part 1)."
   ]
  },
  {
   "cell_type": "code",
   "execution_count": 110,
   "metadata": {},
   "outputs": [],
   "source": [
    "# Create a variable named emergency_fund_value\n",
    "emergency_fund_value=3*monthly_income"
   ]
  },
  {
   "cell_type": "markdown",
   "metadata": {},
   "source": [
    "##### Step 4-2: Create a series of three if statements to determine if the member’s total portfolio is large enough to fund the emergency portfolio:\n",
    "\n",
    "* If the total portfolio value is greater than the emergency fund value, display a message congratulating the member for having enough money in this fund.\n",
    "\n",
    "* Else if the total portfolio value is equal to the emergency fund value, display a message congratulating the member on reaching this important financial goal.\n",
    "\n",
    "* Else the total portfolio is less than the emergency fund value, so display a message showing how many dollars away the member is from reaching the goal. (Subtract the total portfolio value from the emergency fund value.)"
   ]
  },
  {
   "cell_type": "code",
   "execution_count": 113,
   "metadata": {},
   "outputs": [
    {
     "name": "stdout",
     "output_type": "stream",
     "text": [
      "Congratulations! You have saved over three months of income in case of an emergency.\n"
     ]
    }
   ],
   "source": [
    "# Evaluate the possibility of creating an emergency fund with 3 conditions:\n",
    "if total_portfolio>emergency_fund_value:\n",
    "    print(f\"Congratulations! You have saved over three months of income in case of an emergency.\")\n",
    "elif total_portfolio==emergency_fund_value:\n",
    "    print(f\"Congratulations! You have saved three months of income in case of an emergency.\")\n",
    "elif total_portfolio<emergency_fund_value:\n",
    "    money_needed=emergency_fund_value-total_portfolio_value\n",
    "    print(f\"You are ${money_needed:.2f} away from reaching the recommended amount for an emergency fund.\")"
   ]
  },
  {
   "cell_type": "markdown",
   "metadata": {},
   "source": [
    "## Part 2: Create a Financial Planner for Retirement"
   ]
  },
  {
   "cell_type": "markdown",
   "metadata": {},
   "source": [
    "### Create the Monte Carlo Simulation\n",
    "\n",
    "In this section, you’ll use the MCForecastTools library to create a Monte Carlo simulation for the member’s savings portfolio. To do this, complete the following steps:\n",
    "\n",
    "1. Make an API call via the Alpaca SDK to get 3 years of historical closing prices for a traditional 60/40 portfolio split: 60% stocks (SPY) and 40% bonds (AGG).\n",
    "\n",
    "2. Run a Monte Carlo simulation of 500 samples and 30 years for the 60/40 portfolio, and then plot the results.The following image shows the overlay line plot resulting from a simulation with these characteristics. However, because a random number generator is used to run each live Monte Carlo simulation, your image will differ slightly from this exact image:\n",
    "\n",
    "![A screenshot depicts the resulting plot.](Images/5-4-monte-carlo-line-plot.png)\n",
    "\n",
    "3. Plot the probability distribution of the Monte Carlo simulation. Plot the probability distribution of the Monte Carlo simulation. The following image shows the histogram plot resulting from a simulation with these characteristics. However, because a random number generator is used to run each live Monte Carlo simulation, your image will differ slightly from this exact image:\n",
    "\n",
    "![A screenshot depicts the histogram plot.](Images/5-4-monte-carlo-histogram.png)\n",
    "\n",
    "4. Generate the summary statistics for the Monte Carlo simulation.\n",
    "\n"
   ]
  },
  {
   "cell_type": "markdown",
   "metadata": {},
   "source": [
    "#### Step 1: Make an API call via the Alpaca SDK to get 3 years of historical closing prices for a traditional 60/40 portfolio split: 60% stocks (SPY) and 40% bonds (AGG)."
   ]
  },
  {
   "cell_type": "code",
   "execution_count": 115,
   "metadata": {},
   "outputs": [],
   "source": [
    "# Set start and end dates of 3 years back from your current date\n",
    "# Alternatively, you can use an end date of 2020-08-07 and work 3 years back from that date \n",
    "start_date=pd.Timestamp('2020-01-06',tz='America/New_York').isoformat()\n",
    "end_date=pd.Timestamp('2023-01-06',tz='America/New_York').isoformat()"
   ]
  },
  {
   "cell_type": "code",
   "execution_count": 161,
   "metadata": {},
   "outputs": [
    {
     "data": {
      "text/html": [
       "<div>\n",
       "<style scoped>\n",
       "    .dataframe tbody tr th:only-of-type {\n",
       "        vertical-align: middle;\n",
       "    }\n",
       "\n",
       "    .dataframe tbody tr th {\n",
       "        vertical-align: top;\n",
       "    }\n",
       "\n",
       "    .dataframe thead tr th {\n",
       "        text-align: left;\n",
       "    }\n",
       "\n",
       "    .dataframe thead tr:last-of-type th {\n",
       "        text-align: right;\n",
       "    }\n",
       "</style>\n",
       "<table border=\"1\" class=\"dataframe\">\n",
       "  <thead>\n",
       "    <tr>\n",
       "      <th></th>\n",
       "      <th colspan=\"7\" halign=\"left\">SPY</th>\n",
       "      <th colspan=\"7\" halign=\"left\">AGG</th>\n",
       "    </tr>\n",
       "    <tr>\n",
       "      <th></th>\n",
       "      <th>open</th>\n",
       "      <th>high</th>\n",
       "      <th>low</th>\n",
       "      <th>close</th>\n",
       "      <th>volume</th>\n",
       "      <th>trade_count</th>\n",
       "      <th>vwap</th>\n",
       "      <th>open</th>\n",
       "      <th>high</th>\n",
       "      <th>low</th>\n",
       "      <th>close</th>\n",
       "      <th>volume</th>\n",
       "      <th>trade_count</th>\n",
       "      <th>vwap</th>\n",
       "    </tr>\n",
       "    <tr>\n",
       "      <th>timestamp</th>\n",
       "      <th></th>\n",
       "      <th></th>\n",
       "      <th></th>\n",
       "      <th></th>\n",
       "      <th></th>\n",
       "      <th></th>\n",
       "      <th></th>\n",
       "      <th></th>\n",
       "      <th></th>\n",
       "      <th></th>\n",
       "      <th></th>\n",
       "      <th></th>\n",
       "      <th></th>\n",
       "      <th></th>\n",
       "    </tr>\n",
       "  </thead>\n",
       "  <tbody>\n",
       "    <tr>\n",
       "      <th>2020-01-06 05:00:00+00:00</th>\n",
       "      <td>320.4900</td>\n",
       "      <td>323.73</td>\n",
       "      <td>320.36</td>\n",
       "      <td>323.73</td>\n",
       "      <td>55817168</td>\n",
       "      <td>255767</td>\n",
       "      <td>322.722391</td>\n",
       "      <td>113.13</td>\n",
       "      <td>113.13</td>\n",
       "      <td>112.840</td>\n",
       "      <td>112.92</td>\n",
       "      <td>8131608</td>\n",
       "      <td>17277</td>\n",
       "      <td>112.949600</td>\n",
       "    </tr>\n",
       "    <tr>\n",
       "      <th>2020-01-07 05:00:00+00:00</th>\n",
       "      <td>323.0200</td>\n",
       "      <td>323.54</td>\n",
       "      <td>322.24</td>\n",
       "      <td>322.74</td>\n",
       "      <td>42874811</td>\n",
       "      <td>226059</td>\n",
       "      <td>322.711069</td>\n",
       "      <td>112.92</td>\n",
       "      <td>112.92</td>\n",
       "      <td>112.780</td>\n",
       "      <td>112.80</td>\n",
       "      <td>2883005</td>\n",
       "      <td>11523</td>\n",
       "      <td>112.834953</td>\n",
       "    </tr>\n",
       "    <tr>\n",
       "      <th>2020-01-08 05:00:00+00:00</th>\n",
       "      <td>322.9400</td>\n",
       "      <td>325.78</td>\n",
       "      <td>322.67</td>\n",
       "      <td>324.42</td>\n",
       "      <td>68435753</td>\n",
       "      <td>340004</td>\n",
       "      <td>324.331733</td>\n",
       "      <td>112.85</td>\n",
       "      <td>112.94</td>\n",
       "      <td>112.545</td>\n",
       "      <td>112.67</td>\n",
       "      <td>7323117</td>\n",
       "      <td>12854</td>\n",
       "      <td>112.671650</td>\n",
       "    </tr>\n",
       "    <tr>\n",
       "      <th>2020-01-09 05:00:00+00:00</th>\n",
       "      <td>326.1600</td>\n",
       "      <td>326.73</td>\n",
       "      <td>325.52</td>\n",
       "      <td>326.59</td>\n",
       "      <td>48582601</td>\n",
       "      <td>242161</td>\n",
       "      <td>326.093557</td>\n",
       "      <td>112.49</td>\n",
       "      <td>112.79</td>\n",
       "      <td>112.460</td>\n",
       "      <td>112.79</td>\n",
       "      <td>9110852</td>\n",
       "      <td>13407</td>\n",
       "      <td>112.730232</td>\n",
       "    </tr>\n",
       "    <tr>\n",
       "      <th>2020-01-10 05:00:00+00:00</th>\n",
       "      <td>327.2899</td>\n",
       "      <td>327.46</td>\n",
       "      <td>325.20</td>\n",
       "      <td>325.64</td>\n",
       "      <td>53057389</td>\n",
       "      <td>236220</td>\n",
       "      <td>326.407649</td>\n",
       "      <td>112.90</td>\n",
       "      <td>112.99</td>\n",
       "      <td>112.820</td>\n",
       "      <td>112.98</td>\n",
       "      <td>4198053</td>\n",
       "      <td>11555</td>\n",
       "      <td>112.924604</td>\n",
       "    </tr>\n",
       "  </tbody>\n",
       "</table>\n",
       "</div>"
      ],
      "text/plain": [
       "                                SPY                                    \\\n",
       "                               open    high     low   close    volume   \n",
       "timestamp                                                               \n",
       "2020-01-06 05:00:00+00:00  320.4900  323.73  320.36  323.73  55817168   \n",
       "2020-01-07 05:00:00+00:00  323.0200  323.54  322.24  322.74  42874811   \n",
       "2020-01-08 05:00:00+00:00  322.9400  325.78  322.67  324.42  68435753   \n",
       "2020-01-09 05:00:00+00:00  326.1600  326.73  325.52  326.59  48582601   \n",
       "2020-01-10 05:00:00+00:00  327.2899  327.46  325.20  325.64  53057389   \n",
       "\n",
       "                                                      AGG                   \\\n",
       "                          trade_count        vwap    open    high      low   \n",
       "timestamp                                                                    \n",
       "2020-01-06 05:00:00+00:00      255767  322.722391  113.13  113.13  112.840   \n",
       "2020-01-07 05:00:00+00:00      226059  322.711069  112.92  112.92  112.780   \n",
       "2020-01-08 05:00:00+00:00      340004  324.331733  112.85  112.94  112.545   \n",
       "2020-01-09 05:00:00+00:00      242161  326.093557  112.49  112.79  112.460   \n",
       "2020-01-10 05:00:00+00:00      236220  326.407649  112.90  112.99  112.820   \n",
       "\n",
       "                                                                    \n",
       "                            close   volume trade_count        vwap  \n",
       "timestamp                                                           \n",
       "2020-01-06 05:00:00+00:00  112.92  8131608       17277  112.949600  \n",
       "2020-01-07 05:00:00+00:00  112.80  2883005       11523  112.834953  \n",
       "2020-01-08 05:00:00+00:00  112.67  7323117       12854  112.671650  \n",
       "2020-01-09 05:00:00+00:00  112.79  9110852       13407  112.730232  \n",
       "2020-01-10 05:00:00+00:00  112.98  4198053       11555  112.924604  "
      ]
     },
     "metadata": {},
     "output_type": "display_data"
    },
    {
     "data": {
      "text/html": [
       "<div>\n",
       "<style scoped>\n",
       "    .dataframe tbody tr th:only-of-type {\n",
       "        vertical-align: middle;\n",
       "    }\n",
       "\n",
       "    .dataframe tbody tr th {\n",
       "        vertical-align: top;\n",
       "    }\n",
       "\n",
       "    .dataframe thead tr th {\n",
       "        text-align: left;\n",
       "    }\n",
       "\n",
       "    .dataframe thead tr:last-of-type th {\n",
       "        text-align: right;\n",
       "    }\n",
       "</style>\n",
       "<table border=\"1\" class=\"dataframe\">\n",
       "  <thead>\n",
       "    <tr>\n",
       "      <th></th>\n",
       "      <th colspan=\"7\" halign=\"left\">SPY</th>\n",
       "      <th colspan=\"7\" halign=\"left\">AGG</th>\n",
       "    </tr>\n",
       "    <tr>\n",
       "      <th></th>\n",
       "      <th>open</th>\n",
       "      <th>high</th>\n",
       "      <th>low</th>\n",
       "      <th>close</th>\n",
       "      <th>volume</th>\n",
       "      <th>trade_count</th>\n",
       "      <th>vwap</th>\n",
       "      <th>open</th>\n",
       "      <th>high</th>\n",
       "      <th>low</th>\n",
       "      <th>close</th>\n",
       "      <th>volume</th>\n",
       "      <th>trade_count</th>\n",
       "      <th>vwap</th>\n",
       "    </tr>\n",
       "    <tr>\n",
       "      <th>timestamp</th>\n",
       "      <th></th>\n",
       "      <th></th>\n",
       "      <th></th>\n",
       "      <th></th>\n",
       "      <th></th>\n",
       "      <th></th>\n",
       "      <th></th>\n",
       "      <th></th>\n",
       "      <th></th>\n",
       "      <th></th>\n",
       "      <th></th>\n",
       "      <th></th>\n",
       "      <th></th>\n",
       "      <th></th>\n",
       "    </tr>\n",
       "  </thead>\n",
       "  <tbody>\n",
       "    <tr>\n",
       "      <th>2022-12-30 05:00:00+00:00</th>\n",
       "      <td>380.64</td>\n",
       "      <td>382.58</td>\n",
       "      <td>378.4300</td>\n",
       "      <td>382.43</td>\n",
       "      <td>83474793</td>\n",
       "      <td>544591</td>\n",
       "      <td>381.220108</td>\n",
       "      <td>97.25</td>\n",
       "      <td>97.36</td>\n",
       "      <td>96.9741</td>\n",
       "      <td>96.99</td>\n",
       "      <td>8460107</td>\n",
       "      <td>29791</td>\n",
       "      <td>97.066805</td>\n",
       "    </tr>\n",
       "    <tr>\n",
       "      <th>2023-01-03 05:00:00+00:00</th>\n",
       "      <td>384.37</td>\n",
       "      <td>386.43</td>\n",
       "      <td>377.8310</td>\n",
       "      <td>380.82</td>\n",
       "      <td>74330774</td>\n",
       "      <td>585048</td>\n",
       "      <td>380.961150</td>\n",
       "      <td>97.97</td>\n",
       "      <td>97.97</td>\n",
       "      <td>97.3650</td>\n",
       "      <td>97.56</td>\n",
       "      <td>19923745</td>\n",
       "      <td>50478</td>\n",
       "      <td>97.592200</td>\n",
       "    </tr>\n",
       "    <tr>\n",
       "      <th>2023-01-04 05:00:00+00:00</th>\n",
       "      <td>383.18</td>\n",
       "      <td>385.88</td>\n",
       "      <td>380.0000</td>\n",
       "      <td>383.76</td>\n",
       "      <td>85425119</td>\n",
       "      <td>628498</td>\n",
       "      <td>383.151245</td>\n",
       "      <td>98.17</td>\n",
       "      <td>98.25</td>\n",
       "      <td>97.8900</td>\n",
       "      <td>98.10</td>\n",
       "      <td>9792320</td>\n",
       "      <td>28896</td>\n",
       "      <td>98.032508</td>\n",
       "    </tr>\n",
       "    <tr>\n",
       "      <th>2023-01-05 05:00:00+00:00</th>\n",
       "      <td>381.72</td>\n",
       "      <td>381.76</td>\n",
       "      <td>378.7600</td>\n",
       "      <td>379.38</td>\n",
       "      <td>76079710</td>\n",
       "      <td>523811</td>\n",
       "      <td>380.264217</td>\n",
       "      <td>97.64</td>\n",
       "      <td>98.06</td>\n",
       "      <td>97.5650</td>\n",
       "      <td>98.02</td>\n",
       "      <td>9675668</td>\n",
       "      <td>25578</td>\n",
       "      <td>97.882382</td>\n",
       "    </tr>\n",
       "    <tr>\n",
       "      <th>2023-01-06 05:00:00+00:00</th>\n",
       "      <td>382.61</td>\n",
       "      <td>389.25</td>\n",
       "      <td>379.4127</td>\n",
       "      <td>388.08</td>\n",
       "      <td>103741286</td>\n",
       "      <td>683816</td>\n",
       "      <td>385.248218</td>\n",
       "      <td>98.13</td>\n",
       "      <td>99.15</td>\n",
       "      <td>98.0400</td>\n",
       "      <td>99.09</td>\n",
       "      <td>8484694</td>\n",
       "      <td>28134</td>\n",
       "      <td>98.849728</td>\n",
       "    </tr>\n",
       "  </tbody>\n",
       "</table>\n",
       "</div>"
      ],
      "text/plain": [
       "                              SPY                                       \\\n",
       "                             open    high       low   close     volume   \n",
       "timestamp                                                                \n",
       "2022-12-30 05:00:00+00:00  380.64  382.58  378.4300  382.43   83474793   \n",
       "2023-01-03 05:00:00+00:00  384.37  386.43  377.8310  380.82   74330774   \n",
       "2023-01-04 05:00:00+00:00  383.18  385.88  380.0000  383.76   85425119   \n",
       "2023-01-05 05:00:00+00:00  381.72  381.76  378.7600  379.38   76079710   \n",
       "2023-01-06 05:00:00+00:00  382.61  389.25  379.4127  388.08  103741286   \n",
       "\n",
       "                                                     AGG                  \\\n",
       "                          trade_count        vwap   open   high      low   \n",
       "timestamp                                                                  \n",
       "2022-12-30 05:00:00+00:00      544591  381.220108  97.25  97.36  96.9741   \n",
       "2023-01-03 05:00:00+00:00      585048  380.961150  97.97  97.97  97.3650   \n",
       "2023-01-04 05:00:00+00:00      628498  383.151245  98.17  98.25  97.8900   \n",
       "2023-01-05 05:00:00+00:00      523811  380.264217  97.64  98.06  97.5650   \n",
       "2023-01-06 05:00:00+00:00      683816  385.248218  98.13  99.15  98.0400   \n",
       "\n",
       "                                                                   \n",
       "                           close    volume trade_count       vwap  \n",
       "timestamp                                                          \n",
       "2022-12-30 05:00:00+00:00  96.99   8460107       29791  97.066805  \n",
       "2023-01-03 05:00:00+00:00  97.56  19923745       50478  97.592200  \n",
       "2023-01-04 05:00:00+00:00  98.10   9792320       28896  98.032508  \n",
       "2023-01-05 05:00:00+00:00  98.02   9675668       25578  97.882382  \n",
       "2023-01-06 05:00:00+00:00  99.09   8484694       28134  98.849728  "
      ]
     },
     "metadata": {},
     "output_type": "display_data"
    }
   ],
   "source": [
    "# Use the Alpaca get_bars function to make the API call to get the 3 years worth of pricing data\n",
    "# The tickers and timeframe parameters should have been set in Part 1 of this activity \n",
    "# The start and end dates should be updated with the information set above\n",
    "# Remember to add the df property to the end of the call so the response is returned as a DataFrame\n",
    "historical_df=alpaca.get_bars(tickers,timeframe,start=start_date,end=end_date).df\n",
    "\n",
    "# Reorganize the DataFrame\n",
    "# Separate ticker data\n",
    "SPY=historical_df[historical_df['symbol']=='SPY'].drop('symbol',axis=1)\n",
    "AGG=historical_df[historical_df['symbol']=='AGG'].drop('symbol', axis=1)\n",
    "# Concatenate the ticker DataFrames\n",
    "df_historical=pd.concat((SPY,AGG),axis=1,keys=['SPY','AGG'])\n",
    "# Display both the first and last five rows of the DataFrame\n",
    "display(df_historical.head())\n",
    "display(df_historical.tail())"
   ]
  },
  {
   "cell_type": "markdown",
   "metadata": {},
   "source": [
    "#### Step 2: Run a Monte Carlo simulation of 500 samples and 30 years for the 60/40 portfolio, and then plot the results."
   ]
  },
  {
   "cell_type": "code",
   "execution_count": 162,
   "metadata": {},
   "outputs": [
    {
     "data": {
      "text/html": [
       "<div>\n",
       "<style scoped>\n",
       "    .dataframe tbody tr th:only-of-type {\n",
       "        vertical-align: middle;\n",
       "    }\n",
       "\n",
       "    .dataframe tbody tr th {\n",
       "        vertical-align: top;\n",
       "    }\n",
       "\n",
       "    .dataframe thead tr th {\n",
       "        text-align: left;\n",
       "    }\n",
       "\n",
       "    .dataframe thead tr:last-of-type th {\n",
       "        text-align: right;\n",
       "    }\n",
       "</style>\n",
       "<table border=\"1\" class=\"dataframe\">\n",
       "  <thead>\n",
       "    <tr>\n",
       "      <th></th>\n",
       "      <th colspan=\"8\" halign=\"left\">SPY</th>\n",
       "      <th colspan=\"8\" halign=\"left\">AGG</th>\n",
       "    </tr>\n",
       "    <tr>\n",
       "      <th></th>\n",
       "      <th>open</th>\n",
       "      <th>high</th>\n",
       "      <th>low</th>\n",
       "      <th>close</th>\n",
       "      <th>volume</th>\n",
       "      <th>trade_count</th>\n",
       "      <th>vwap</th>\n",
       "      <th>daily_return</th>\n",
       "      <th>open</th>\n",
       "      <th>high</th>\n",
       "      <th>low</th>\n",
       "      <th>close</th>\n",
       "      <th>volume</th>\n",
       "      <th>trade_count</th>\n",
       "      <th>vwap</th>\n",
       "      <th>daily_return</th>\n",
       "    </tr>\n",
       "    <tr>\n",
       "      <th>timestamp</th>\n",
       "      <th></th>\n",
       "      <th></th>\n",
       "      <th></th>\n",
       "      <th></th>\n",
       "      <th></th>\n",
       "      <th></th>\n",
       "      <th></th>\n",
       "      <th></th>\n",
       "      <th></th>\n",
       "      <th></th>\n",
       "      <th></th>\n",
       "      <th></th>\n",
       "      <th></th>\n",
       "      <th></th>\n",
       "      <th></th>\n",
       "      <th></th>\n",
       "    </tr>\n",
       "  </thead>\n",
       "  <tbody>\n",
       "    <tr>\n",
       "      <th>2020-01-06 05:00:00+00:00</th>\n",
       "      <td>320.4900</td>\n",
       "      <td>323.73</td>\n",
       "      <td>320.36</td>\n",
       "      <td>323.73</td>\n",
       "      <td>55817168</td>\n",
       "      <td>255767</td>\n",
       "      <td>322.722391</td>\n",
       "      <td>NaN</td>\n",
       "      <td>113.13</td>\n",
       "      <td>113.13</td>\n",
       "      <td>112.840</td>\n",
       "      <td>112.92</td>\n",
       "      <td>8131608</td>\n",
       "      <td>17277</td>\n",
       "      <td>112.949600</td>\n",
       "      <td>NaN</td>\n",
       "    </tr>\n",
       "    <tr>\n",
       "      <th>2020-01-07 05:00:00+00:00</th>\n",
       "      <td>323.0200</td>\n",
       "      <td>323.54</td>\n",
       "      <td>322.24</td>\n",
       "      <td>322.74</td>\n",
       "      <td>42874811</td>\n",
       "      <td>226059</td>\n",
       "      <td>322.711069</td>\n",
       "      <td>-0.003058</td>\n",
       "      <td>112.92</td>\n",
       "      <td>112.92</td>\n",
       "      <td>112.780</td>\n",
       "      <td>112.80</td>\n",
       "      <td>2883005</td>\n",
       "      <td>11523</td>\n",
       "      <td>112.834953</td>\n",
       "      <td>-0.001063</td>\n",
       "    </tr>\n",
       "    <tr>\n",
       "      <th>2020-01-08 05:00:00+00:00</th>\n",
       "      <td>322.9400</td>\n",
       "      <td>325.78</td>\n",
       "      <td>322.67</td>\n",
       "      <td>324.42</td>\n",
       "      <td>68435753</td>\n",
       "      <td>340004</td>\n",
       "      <td>324.331733</td>\n",
       "      <td>0.005205</td>\n",
       "      <td>112.85</td>\n",
       "      <td>112.94</td>\n",
       "      <td>112.545</td>\n",
       "      <td>112.67</td>\n",
       "      <td>7323117</td>\n",
       "      <td>12854</td>\n",
       "      <td>112.671650</td>\n",
       "      <td>-0.001152</td>\n",
       "    </tr>\n",
       "    <tr>\n",
       "      <th>2020-01-09 05:00:00+00:00</th>\n",
       "      <td>326.1600</td>\n",
       "      <td>326.73</td>\n",
       "      <td>325.52</td>\n",
       "      <td>326.59</td>\n",
       "      <td>48582601</td>\n",
       "      <td>242161</td>\n",
       "      <td>326.093557</td>\n",
       "      <td>0.006689</td>\n",
       "      <td>112.49</td>\n",
       "      <td>112.79</td>\n",
       "      <td>112.460</td>\n",
       "      <td>112.79</td>\n",
       "      <td>9110852</td>\n",
       "      <td>13407</td>\n",
       "      <td>112.730232</td>\n",
       "      <td>0.001065</td>\n",
       "    </tr>\n",
       "    <tr>\n",
       "      <th>2020-01-10 05:00:00+00:00</th>\n",
       "      <td>327.2899</td>\n",
       "      <td>327.46</td>\n",
       "      <td>325.20</td>\n",
       "      <td>325.64</td>\n",
       "      <td>53057389</td>\n",
       "      <td>236220</td>\n",
       "      <td>326.407649</td>\n",
       "      <td>-0.002909</td>\n",
       "      <td>112.90</td>\n",
       "      <td>112.99</td>\n",
       "      <td>112.820</td>\n",
       "      <td>112.98</td>\n",
       "      <td>4198053</td>\n",
       "      <td>11555</td>\n",
       "      <td>112.924604</td>\n",
       "      <td>0.001685</td>\n",
       "    </tr>\n",
       "  </tbody>\n",
       "</table>\n",
       "</div>"
      ],
      "text/plain": [
       "                                SPY                                    \\\n",
       "                               open    high     low   close    volume   \n",
       "timestamp                                                               \n",
       "2020-01-06 05:00:00+00:00  320.4900  323.73  320.36  323.73  55817168   \n",
       "2020-01-07 05:00:00+00:00  323.0200  323.54  322.24  322.74  42874811   \n",
       "2020-01-08 05:00:00+00:00  322.9400  325.78  322.67  324.42  68435753   \n",
       "2020-01-09 05:00:00+00:00  326.1600  326.73  325.52  326.59  48582601   \n",
       "2020-01-10 05:00:00+00:00  327.2899  327.46  325.20  325.64  53057389   \n",
       "\n",
       "                                                                   AGG  \\\n",
       "                          trade_count        vwap daily_return    open   \n",
       "timestamp                                                                \n",
       "2020-01-06 05:00:00+00:00      255767  322.722391          NaN  113.13   \n",
       "2020-01-07 05:00:00+00:00      226059  322.711069    -0.003058  112.92   \n",
       "2020-01-08 05:00:00+00:00      340004  324.331733     0.005205  112.85   \n",
       "2020-01-09 05:00:00+00:00      242161  326.093557     0.006689  112.49   \n",
       "2020-01-10 05:00:00+00:00      236220  326.407649    -0.002909  112.90   \n",
       "\n",
       "                                                                         \\\n",
       "                             high      low   close   volume trade_count   \n",
       "timestamp                                                                 \n",
       "2020-01-06 05:00:00+00:00  113.13  112.840  112.92  8131608       17277   \n",
       "2020-01-07 05:00:00+00:00  112.92  112.780  112.80  2883005       11523   \n",
       "2020-01-08 05:00:00+00:00  112.94  112.545  112.67  7323117       12854   \n",
       "2020-01-09 05:00:00+00:00  112.79  112.460  112.79  9110852       13407   \n",
       "2020-01-10 05:00:00+00:00  112.99  112.820  112.98  4198053       11555   \n",
       "\n",
       "                                                    \n",
       "                                 vwap daily_return  \n",
       "timestamp                                           \n",
       "2020-01-06 05:00:00+00:00  112.949600          NaN  \n",
       "2020-01-07 05:00:00+00:00  112.834953    -0.001063  \n",
       "2020-01-08 05:00:00+00:00  112.671650    -0.001152  \n",
       "2020-01-09 05:00:00+00:00  112.730232     0.001065  \n",
       "2020-01-10 05:00:00+00:00  112.924604     0.001685  "
      ]
     },
     "execution_count": 162,
     "metadata": {},
     "output_type": "execute_result"
    }
   ],
   "source": [
    "# Configure the Monte Carlo simulation to forecast 30 years cumulative returns\n",
    "# The weights should be split 40% to AGG and 60% to SPY.\n",
    "# Run 500 samples.\n",
    "MC_fiveyear=MCSimulation(\n",
    "    portfolio_data=df_historical,\n",
    "    weights=[.60,.40],\n",
    "    num_simulation=500,\n",
    "    num_trading_days=252*30\n",
    "                        )\n",
    "# Review the simulation input data\n",
    "# YOUR CODE HERE\n",
    "MC_fiveyear.portfolio_data.head()"
   ]
  },
  {
   "cell_type": "code",
   "execution_count": 163,
   "metadata": {},
   "outputs": [
    {
     "name": "stdout",
     "output_type": "stream",
     "text": [
      "Running Monte Carlo simulation number 0.\n",
      "Running Monte Carlo simulation number 10.\n",
      "Running Monte Carlo simulation number 20.\n",
      "Running Monte Carlo simulation number 30.\n",
      "Running Monte Carlo simulation number 40.\n",
      "Running Monte Carlo simulation number 50.\n",
      "Running Monte Carlo simulation number 60.\n",
      "Running Monte Carlo simulation number 70.\n",
      "Running Monte Carlo simulation number 80.\n",
      "Running Monte Carlo simulation number 90.\n",
      "Running Monte Carlo simulation number 100.\n"
     ]
    },
    {
     "name": "stderr",
     "output_type": "stream",
     "text": [
      "C:\\Users\\pplim\\desktop\\Fintech_Workspace\\challenges\\challenge5\\Monte_Carlo_Forecasting\\MCForecastTools.py:117: PerformanceWarning: DataFrame is highly fragmented.  This is usually the result of calling `frame.insert` many times, which has poor performance.  Consider joining all columns at once using pd.concat(axis=1) instead.  To get a de-fragmented frame, use `newframe = frame.copy()`\n",
      "  portfolio_cumulative_returns[n] = (1 + sim_df.fillna(0)).cumprod()\n"
     ]
    },
    {
     "name": "stdout",
     "output_type": "stream",
     "text": [
      "Running Monte Carlo simulation number 110.\n",
      "Running Monte Carlo simulation number 120.\n",
      "Running Monte Carlo simulation number 130.\n",
      "Running Monte Carlo simulation number 140.\n",
      "Running Monte Carlo simulation number 150.\n",
      "Running Monte Carlo simulation number 160.\n",
      "Running Monte Carlo simulation number 170.\n",
      "Running Monte Carlo simulation number 180.\n",
      "Running Monte Carlo simulation number 190.\n",
      "Running Monte Carlo simulation number 200.\n",
      "Running Monte Carlo simulation number 210.\n",
      "Running Monte Carlo simulation number 220.\n",
      "Running Monte Carlo simulation number 230.\n",
      "Running Monte Carlo simulation number 240.\n",
      "Running Monte Carlo simulation number 250.\n",
      "Running Monte Carlo simulation number 260.\n",
      "Running Monte Carlo simulation number 270.\n",
      "Running Monte Carlo simulation number 280.\n",
      "Running Monte Carlo simulation number 290.\n",
      "Running Monte Carlo simulation number 300.\n",
      "Running Monte Carlo simulation number 310.\n",
      "Running Monte Carlo simulation number 320.\n",
      "Running Monte Carlo simulation number 330.\n",
      "Running Monte Carlo simulation number 340.\n",
      "Running Monte Carlo simulation number 350.\n",
      "Running Monte Carlo simulation number 360.\n",
      "Running Monte Carlo simulation number 370.\n",
      "Running Monte Carlo simulation number 380.\n",
      "Running Monte Carlo simulation number 390.\n",
      "Running Monte Carlo simulation number 400.\n",
      "Running Monte Carlo simulation number 410.\n",
      "Running Monte Carlo simulation number 420.\n",
      "Running Monte Carlo simulation number 430.\n",
      "Running Monte Carlo simulation number 440.\n",
      "Running Monte Carlo simulation number 450.\n",
      "Running Monte Carlo simulation number 460.\n",
      "Running Monte Carlo simulation number 470.\n",
      "Running Monte Carlo simulation number 480.\n",
      "Running Monte Carlo simulation number 490.\n"
     ]
    },
    {
     "data": {
      "text/html": [
       "<div>\n",
       "<style scoped>\n",
       "    .dataframe tbody tr th:only-of-type {\n",
       "        vertical-align: middle;\n",
       "    }\n",
       "\n",
       "    .dataframe tbody tr th {\n",
       "        vertical-align: top;\n",
       "    }\n",
       "\n",
       "    .dataframe thead th {\n",
       "        text-align: right;\n",
       "    }\n",
       "</style>\n",
       "<table border=\"1\" class=\"dataframe\">\n",
       "  <thead>\n",
       "    <tr style=\"text-align: right;\">\n",
       "      <th></th>\n",
       "      <th>0</th>\n",
       "      <th>1</th>\n",
       "      <th>2</th>\n",
       "      <th>3</th>\n",
       "      <th>4</th>\n",
       "      <th>5</th>\n",
       "      <th>6</th>\n",
       "      <th>7</th>\n",
       "      <th>8</th>\n",
       "      <th>9</th>\n",
       "      <th>...</th>\n",
       "      <th>490</th>\n",
       "      <th>491</th>\n",
       "      <th>492</th>\n",
       "      <th>493</th>\n",
       "      <th>494</th>\n",
       "      <th>495</th>\n",
       "      <th>496</th>\n",
       "      <th>497</th>\n",
       "      <th>498</th>\n",
       "      <th>499</th>\n",
       "    </tr>\n",
       "  </thead>\n",
       "  <tbody>\n",
       "    <tr>\n",
       "      <th>0</th>\n",
       "      <td>1.000000</td>\n",
       "      <td>1.000000</td>\n",
       "      <td>1.000000</td>\n",
       "      <td>1.000000</td>\n",
       "      <td>1.000000</td>\n",
       "      <td>1.000000</td>\n",
       "      <td>1.000000</td>\n",
       "      <td>1.000000</td>\n",
       "      <td>1.000000</td>\n",
       "      <td>1.000000</td>\n",
       "      <td>...</td>\n",
       "      <td>1.000000</td>\n",
       "      <td>1.000000</td>\n",
       "      <td>1.000000</td>\n",
       "      <td>1.000000</td>\n",
       "      <td>1.000000</td>\n",
       "      <td>1.000000</td>\n",
       "      <td>1.000000</td>\n",
       "      <td>1.000000</td>\n",
       "      <td>1.000000</td>\n",
       "      <td>1.000000</td>\n",
       "    </tr>\n",
       "    <tr>\n",
       "      <th>1</th>\n",
       "      <td>0.992302</td>\n",
       "      <td>0.993233</td>\n",
       "      <td>1.001231</td>\n",
       "      <td>0.992141</td>\n",
       "      <td>1.002448</td>\n",
       "      <td>0.994596</td>\n",
       "      <td>1.006249</td>\n",
       "      <td>0.997069</td>\n",
       "      <td>1.003198</td>\n",
       "      <td>1.006057</td>\n",
       "      <td>...</td>\n",
       "      <td>1.002797</td>\n",
       "      <td>0.992365</td>\n",
       "      <td>0.975452</td>\n",
       "      <td>0.981963</td>\n",
       "      <td>0.983565</td>\n",
       "      <td>1.002302</td>\n",
       "      <td>1.023643</td>\n",
       "      <td>1.003719</td>\n",
       "      <td>0.985502</td>\n",
       "      <td>1.016384</td>\n",
       "    </tr>\n",
       "    <tr>\n",
       "      <th>2</th>\n",
       "      <td>1.008503</td>\n",
       "      <td>1.011307</td>\n",
       "      <td>0.997816</td>\n",
       "      <td>0.999875</td>\n",
       "      <td>0.993035</td>\n",
       "      <td>0.987440</td>\n",
       "      <td>1.008141</td>\n",
       "      <td>0.980138</td>\n",
       "      <td>0.997668</td>\n",
       "      <td>0.996295</td>\n",
       "      <td>...</td>\n",
       "      <td>0.997534</td>\n",
       "      <td>0.991122</td>\n",
       "      <td>0.976475</td>\n",
       "      <td>0.993998</td>\n",
       "      <td>1.002362</td>\n",
       "      <td>1.005824</td>\n",
       "      <td>1.006655</td>\n",
       "      <td>1.009552</td>\n",
       "      <td>0.996240</td>\n",
       "      <td>1.004739</td>\n",
       "    </tr>\n",
       "    <tr>\n",
       "      <th>3</th>\n",
       "      <td>0.992631</td>\n",
       "      <td>1.028792</td>\n",
       "      <td>0.997521</td>\n",
       "      <td>0.997467</td>\n",
       "      <td>0.977941</td>\n",
       "      <td>1.016575</td>\n",
       "      <td>1.003500</td>\n",
       "      <td>0.977710</td>\n",
       "      <td>1.001130</td>\n",
       "      <td>0.975610</td>\n",
       "      <td>...</td>\n",
       "      <td>0.995623</td>\n",
       "      <td>0.983785</td>\n",
       "      <td>0.981733</td>\n",
       "      <td>0.993184</td>\n",
       "      <td>0.988077</td>\n",
       "      <td>0.999993</td>\n",
       "      <td>1.016338</td>\n",
       "      <td>1.010631</td>\n",
       "      <td>1.002232</td>\n",
       "      <td>1.008485</td>\n",
       "    </tr>\n",
       "    <tr>\n",
       "      <th>4</th>\n",
       "      <td>0.996368</td>\n",
       "      <td>1.026254</td>\n",
       "      <td>0.999632</td>\n",
       "      <td>0.988239</td>\n",
       "      <td>0.972775</td>\n",
       "      <td>1.013062</td>\n",
       "      <td>0.991347</td>\n",
       "      <td>0.999764</td>\n",
       "      <td>0.989712</td>\n",
       "      <td>0.961796</td>\n",
       "      <td>...</td>\n",
       "      <td>0.997504</td>\n",
       "      <td>0.978101</td>\n",
       "      <td>0.970018</td>\n",
       "      <td>1.001839</td>\n",
       "      <td>1.004567</td>\n",
       "      <td>0.993510</td>\n",
       "      <td>1.021577</td>\n",
       "      <td>1.004963</td>\n",
       "      <td>1.004750</td>\n",
       "      <td>1.000114</td>\n",
       "    </tr>\n",
       "    <tr>\n",
       "      <th>...</th>\n",
       "      <td>...</td>\n",
       "      <td>...</td>\n",
       "      <td>...</td>\n",
       "      <td>...</td>\n",
       "      <td>...</td>\n",
       "      <td>...</td>\n",
       "      <td>...</td>\n",
       "      <td>...</td>\n",
       "      <td>...</td>\n",
       "      <td>...</td>\n",
       "      <td>...</td>\n",
       "      <td>...</td>\n",
       "      <td>...</td>\n",
       "      <td>...</td>\n",
       "      <td>...</td>\n",
       "      <td>...</td>\n",
       "      <td>...</td>\n",
       "      <td>...</td>\n",
       "      <td>...</td>\n",
       "      <td>...</td>\n",
       "      <td>...</td>\n",
       "    </tr>\n",
       "    <tr>\n",
       "      <th>7556</th>\n",
       "      <td>7.379208</td>\n",
       "      <td>0.792030</td>\n",
       "      <td>8.463428</td>\n",
       "      <td>1.013822</td>\n",
       "      <td>8.127849</td>\n",
       "      <td>2.330704</td>\n",
       "      <td>1.521358</td>\n",
       "      <td>2.174314</td>\n",
       "      <td>2.623261</td>\n",
       "      <td>3.929923</td>\n",
       "      <td>...</td>\n",
       "      <td>1.779604</td>\n",
       "      <td>0.785737</td>\n",
       "      <td>10.587544</td>\n",
       "      <td>4.463961</td>\n",
       "      <td>0.689247</td>\n",
       "      <td>1.057102</td>\n",
       "      <td>0.348507</td>\n",
       "      <td>0.468384</td>\n",
       "      <td>2.068884</td>\n",
       "      <td>1.898948</td>\n",
       "    </tr>\n",
       "    <tr>\n",
       "      <th>7557</th>\n",
       "      <td>7.406070</td>\n",
       "      <td>0.792035</td>\n",
       "      <td>8.587800</td>\n",
       "      <td>1.027376</td>\n",
       "      <td>8.106786</td>\n",
       "      <td>2.311588</td>\n",
       "      <td>1.504717</td>\n",
       "      <td>2.201208</td>\n",
       "      <td>2.631718</td>\n",
       "      <td>3.925951</td>\n",
       "      <td>...</td>\n",
       "      <td>1.791326</td>\n",
       "      <td>0.779274</td>\n",
       "      <td>10.335378</td>\n",
       "      <td>4.503709</td>\n",
       "      <td>0.686114</td>\n",
       "      <td>1.040437</td>\n",
       "      <td>0.344950</td>\n",
       "      <td>0.474803</td>\n",
       "      <td>2.101887</td>\n",
       "      <td>1.911471</td>\n",
       "    </tr>\n",
       "    <tr>\n",
       "      <th>7558</th>\n",
       "      <td>7.364649</td>\n",
       "      <td>0.792314</td>\n",
       "      <td>8.678853</td>\n",
       "      <td>1.035311</td>\n",
       "      <td>8.207795</td>\n",
       "      <td>2.328528</td>\n",
       "      <td>1.521615</td>\n",
       "      <td>2.209771</td>\n",
       "      <td>2.643602</td>\n",
       "      <td>3.975138</td>\n",
       "      <td>...</td>\n",
       "      <td>1.831835</td>\n",
       "      <td>0.769676</td>\n",
       "      <td>10.229596</td>\n",
       "      <td>4.582501</td>\n",
       "      <td>0.687780</td>\n",
       "      <td>1.044785</td>\n",
       "      <td>0.340846</td>\n",
       "      <td>0.482198</td>\n",
       "      <td>2.117082</td>\n",
       "      <td>1.881704</td>\n",
       "    </tr>\n",
       "    <tr>\n",
       "      <th>7559</th>\n",
       "      <td>7.274635</td>\n",
       "      <td>0.792569</td>\n",
       "      <td>8.642681</td>\n",
       "      <td>1.033318</td>\n",
       "      <td>8.259953</td>\n",
       "      <td>2.332092</td>\n",
       "      <td>1.532903</td>\n",
       "      <td>2.229428</td>\n",
       "      <td>2.659005</td>\n",
       "      <td>3.939091</td>\n",
       "      <td>...</td>\n",
       "      <td>1.810113</td>\n",
       "      <td>0.767809</td>\n",
       "      <td>10.169944</td>\n",
       "      <td>4.565614</td>\n",
       "      <td>0.688186</td>\n",
       "      <td>1.033787</td>\n",
       "      <td>0.341249</td>\n",
       "      <td>0.482073</td>\n",
       "      <td>2.121048</td>\n",
       "      <td>1.870632</td>\n",
       "    </tr>\n",
       "    <tr>\n",
       "      <th>7560</th>\n",
       "      <td>7.379333</td>\n",
       "      <td>0.794054</td>\n",
       "      <td>8.733604</td>\n",
       "      <td>1.042024</td>\n",
       "      <td>8.322582</td>\n",
       "      <td>2.331015</td>\n",
       "      <td>1.523201</td>\n",
       "      <td>2.263009</td>\n",
       "      <td>2.674542</td>\n",
       "      <td>3.946007</td>\n",
       "      <td>...</td>\n",
       "      <td>1.812602</td>\n",
       "      <td>0.768892</td>\n",
       "      <td>10.134509</td>\n",
       "      <td>4.562290</td>\n",
       "      <td>0.698917</td>\n",
       "      <td>1.021085</td>\n",
       "      <td>0.339675</td>\n",
       "      <td>0.480052</td>\n",
       "      <td>2.109773</td>\n",
       "      <td>1.894558</td>\n",
       "    </tr>\n",
       "  </tbody>\n",
       "</table>\n",
       "<p>7561 rows × 500 columns</p>\n",
       "</div>"
      ],
      "text/plain": [
       "           0         1         2         3         4         5         6    \\\n",
       "0     1.000000  1.000000  1.000000  1.000000  1.000000  1.000000  1.000000   \n",
       "1     0.992302  0.993233  1.001231  0.992141  1.002448  0.994596  1.006249   \n",
       "2     1.008503  1.011307  0.997816  0.999875  0.993035  0.987440  1.008141   \n",
       "3     0.992631  1.028792  0.997521  0.997467  0.977941  1.016575  1.003500   \n",
       "4     0.996368  1.026254  0.999632  0.988239  0.972775  1.013062  0.991347   \n",
       "...        ...       ...       ...       ...       ...       ...       ...   \n",
       "7556  7.379208  0.792030  8.463428  1.013822  8.127849  2.330704  1.521358   \n",
       "7557  7.406070  0.792035  8.587800  1.027376  8.106786  2.311588  1.504717   \n",
       "7558  7.364649  0.792314  8.678853  1.035311  8.207795  2.328528  1.521615   \n",
       "7559  7.274635  0.792569  8.642681  1.033318  8.259953  2.332092  1.532903   \n",
       "7560  7.379333  0.794054  8.733604  1.042024  8.322582  2.331015  1.523201   \n",
       "\n",
       "           7         8         9    ...       490       491        492  \\\n",
       "0     1.000000  1.000000  1.000000  ...  1.000000  1.000000   1.000000   \n",
       "1     0.997069  1.003198  1.006057  ...  1.002797  0.992365   0.975452   \n",
       "2     0.980138  0.997668  0.996295  ...  0.997534  0.991122   0.976475   \n",
       "3     0.977710  1.001130  0.975610  ...  0.995623  0.983785   0.981733   \n",
       "4     0.999764  0.989712  0.961796  ...  0.997504  0.978101   0.970018   \n",
       "...        ...       ...       ...  ...       ...       ...        ...   \n",
       "7556  2.174314  2.623261  3.929923  ...  1.779604  0.785737  10.587544   \n",
       "7557  2.201208  2.631718  3.925951  ...  1.791326  0.779274  10.335378   \n",
       "7558  2.209771  2.643602  3.975138  ...  1.831835  0.769676  10.229596   \n",
       "7559  2.229428  2.659005  3.939091  ...  1.810113  0.767809  10.169944   \n",
       "7560  2.263009  2.674542  3.946007  ...  1.812602  0.768892  10.134509   \n",
       "\n",
       "           493       494       495       496       497       498       499  \n",
       "0     1.000000  1.000000  1.000000  1.000000  1.000000  1.000000  1.000000  \n",
       "1     0.981963  0.983565  1.002302  1.023643  1.003719  0.985502  1.016384  \n",
       "2     0.993998  1.002362  1.005824  1.006655  1.009552  0.996240  1.004739  \n",
       "3     0.993184  0.988077  0.999993  1.016338  1.010631  1.002232  1.008485  \n",
       "4     1.001839  1.004567  0.993510  1.021577  1.004963  1.004750  1.000114  \n",
       "...        ...       ...       ...       ...       ...       ...       ...  \n",
       "7556  4.463961  0.689247  1.057102  0.348507  0.468384  2.068884  1.898948  \n",
       "7557  4.503709  0.686114  1.040437  0.344950  0.474803  2.101887  1.911471  \n",
       "7558  4.582501  0.687780  1.044785  0.340846  0.482198  2.117082  1.881704  \n",
       "7559  4.565614  0.688186  1.033787  0.341249  0.482073  2.121048  1.870632  \n",
       "7560  4.562290  0.698917  1.021085  0.339675  0.480052  2.109773  1.894558  \n",
       "\n",
       "[7561 rows x 500 columns]"
      ]
     },
     "execution_count": 163,
     "metadata": {},
     "output_type": "execute_result"
    }
   ],
   "source": [
    "# Run the Monte Carlo simulation to forecast 30 years cumulative returns\n",
    "# YOUR CODE HERE\n",
    "MC_fiveyear.calc_cumulative_return()"
   ]
  },
  {
   "cell_type": "code",
   "execution_count": 164,
   "metadata": {},
   "outputs": [
    {
     "data": {
      "image/png": "[encoded data removed]",
      "text/plain": [
       "<Figure size 640x480 with 1 Axes>"
      ]
     },
     "metadata": {},
     "output_type": "display_data"
    }
   ],
   "source": [
    "# Visualize the 30-year Monte Carlo simulation by creating an\n",
    "# overlay line plot\n",
    "# YOUR CODE HERE\n",
    "MC_sim_line_plot=MC_fiveyear.plot_simulation()\n",
    "\n",
    "MC_sim_line_plot.get_figure().savefig(\"MC_fiveyear_sim_plot.png\",bbox_inches=\"tight\")"
   ]
  },
  {
   "cell_type": "markdown",
   "metadata": {},
   "source": [
    "#### Step 3: Plot the probability distribution of the Monte Carlo simulation."
   ]
  },
  {
   "cell_type": "code",
   "execution_count": 165,
   "metadata": {},
   "outputs": [
    {
     "data": {
      "image/png": "[encoded data removed]",
      "text/plain": [
       "<Figure size 640x480 with 1 Axes>"
      ]
     },
     "metadata": {},
     "output_type": "display_data"
    }
   ],
   "source": [
    "# Visualize the probability distribution of the 30-year Monte Carlo simulation \n",
    "# by plotting a histogram\n",
    "MC_sim_dist_plot=MC_fiveyear.plot_distribution()\n",
    "MC_sim_dist_plot.get_figure().savefig('MC_fiveyear_dist_plot.png',bbox_inches='tight')"
   ]
  },
  {
   "cell_type": "markdown",
   "metadata": {},
   "source": [
    "#### Step 4: Generate the summary statistics for the Monte Carlo simulation."
   ]
  },
  {
   "cell_type": "code",
   "execution_count": 172,
   "metadata": {},
   "outputs": [
    {
     "name": "stdout",
     "output_type": "stream",
     "text": [
      "count           500.000000\n",
      "mean              3.226691\n",
      "std               3.229038\n",
      "min               0.257386\n",
      "25%               1.300245\n",
      "50%               2.182875\n",
      "75%               3.976705\n",
      "max              24.005064\n",
      "95% CI Lower      0.480159\n",
      "95% CI Upper     11.457526\n",
      "Name: 7560, dtype: float64\n"
     ]
    }
   ],
   "source": [
    "# Generate summary statistics from the 30-year Monte Carlo simulation results\n",
    "# Save the results as a variable\n",
    "MC_summary_statistics=MC_fiveyear.summarize_cumulative_return()\n",
    "\n",
    "\n",
    "# Review the 30-year Monte Carlo summary statistics\n",
    "print(MC_summary_statistics)"
   ]
  },
  {
   "cell_type": "markdown",
   "metadata": {},
   "source": [
    "### Analyze the Retirement Portfolio Forecasts\n",
    "\n",
    "Using the current value of only the stock and bond portion of the member's portfolio and the summary statistics that you generated from the Monte Carlo simulation, answer the following question in your Jupyter notebook:\n",
    "\n",
    "-  What are the lower and upper bounds for the expected value of the portfolio with a 95% confidence interval?\n"
   ]
  },
  {
   "cell_type": "code",
   "execution_count": 170,
   "metadata": {},
   "outputs": [
    {
     "name": "stdout",
     "output_type": "stream",
     "text": [
      "The current balance of the stock and bond portion of your portfolio is $58194.3.\n"
     ]
    }
   ],
   "source": [
    "# Print the current balance of the stock and bond portion of the members portfolio\n",
    "print(f\"The current balance of the stock and bond portion of your portfolio is ${total_stocks_bonds}.\")"
   ]
  },
  {
   "cell_type": "code",
   "execution_count": 178,
   "metadata": {},
   "outputs": [
    {
     "name": "stdout",
     "output_type": "stream",
     "text": [
      "The 95% confidence interval of the 30 year Monte Carlo simulation is between $27942.52 and $666762.73.\n"
     ]
    }
   ],
   "source": [
    "# Use the lower and upper `95%` confidence intervals to calculate the range of the possible outcomes for the current stock/bond portfolio\n",
    "ci_lower_thirty_cumulative_return = MC_summary_statistics[8]*total_stocks_bonds\n",
    "ci_upper_thirty_cumulative_return = MC_summary_statistics[9]*total_stocks_bonds\n",
    "\n",
    "# Print the result of your calculations\n",
    "print(f\"The 95% confidence interval of the 30 year Monte Carlo simulation is between ${ci_lower_thirty_cumulative_return:.2f} and ${ci_upper_thirty_cumulative_return:.2f}.\")"
   ]
  },
  {
   "cell_type": "markdown",
   "metadata": {},
   "source": [
    "### Forecast Cumulative Returns in 10 Years\n",
    "\n",
    "The CTO of the credit union is impressed with your work on these planning tools but wonders if 30 years is a long time to wait until retirement. So, your next task is to adjust the retirement portfolio and run a new Monte Carlo simulation to find out if the changes will allow members to retire earlier.\n",
    "\n",
    "For this new Monte Carlo simulation, do the following: \n",
    "\n",
    "- Forecast the cumulative returns for 10 years from now. Because of the shortened investment horizon (30 years to 10 years), the portfolio needs to invest more heavily in the riskier asset&mdash;that is, stock&mdash;to help accumulate wealth for retirement. \n",
    "\n",
    "- Adjust the weights of the retirement portfolio so that the composition for the Monte Carlo simulation consists of 20% bonds and 80% stocks. \n",
    "\n",
    "- Run the simulation over 500 samples, and use the same data that the API call to Alpaca generated.\n",
    "\n",
    "- Based on the new Monte Carlo simulation, answer the following questions in your Jupyter notebook:\n",
    "\n",
    "    - Using the current value of only the stock and bond portion of the member's portfolio and the summary statistics that you generated from the new Monte Carlo simulation, what are the lower and upper bounds for the expected value of the portfolio (with the new weights) with a 95% confidence interval?\n",
    "\n",
    "    - Will weighting the portfolio more heavily toward stocks allow the credit union members to retire after only 10 years?\n"
   ]
  },
  {
   "cell_type": "code",
   "execution_count": null,
   "metadata": {},
   "outputs": [],
   "source": [
    "# Configure a Monte Carlo simulation to forecast 10 years cumulative returns\n",
    "# The weights should be split 20% to AGG and 80% to SPY.\n",
    "# Run 500 samples.\n",
    "# YOUR CODE HERE\n",
    "\n",
    "# Review the simulation input data\n",
    "# YOUR CODE HERE\n"
   ]
  },
  {
   "cell_type": "code",
   "execution_count": null,
   "metadata": {},
   "outputs": [],
   "source": [
    "# Run the Monte Carlo simulation to forecast 10 years cumulative returns\n",
    "# YOUR CODE HERE\n"
   ]
  },
  {
   "cell_type": "code",
   "execution_count": null,
   "metadata": {},
   "outputs": [],
   "source": [
    "# Visualize the 10-year Monte Carlo simulation by creating an\n",
    "# overlay line plot\n",
    "# YOUR CODE HERE\n"
   ]
  },
  {
   "cell_type": "code",
   "execution_count": null,
   "metadata": {},
   "outputs": [],
   "source": [
    "# Visualize the probability distribution of the 10-year Monte Carlo simulation \n",
    "# by plotting a histogram\n",
    "# YOUR CODE HERE\n"
   ]
  },
  {
   "cell_type": "code",
   "execution_count": null,
   "metadata": {},
   "outputs": [],
   "source": [
    "# Generate summary statistics from the 10-year Monte Carlo simulation results\n",
    "# Save the results as a variable\n",
    "# YOUR CODE HERE\n",
    "\n",
    "\n",
    "# Review the 10-year Monte Carlo summary statistics\n",
    "# YOUR CODE HERE"
   ]
  },
  {
   "cell_type": "markdown",
   "metadata": {},
   "source": [
    "### Answer the following questions:"
   ]
  },
  {
   "cell_type": "markdown",
   "metadata": {},
   "source": [
    "#### Question: Using the current value of only the stock and bond portion of the member's portfolio and the summary statistics that you generated from the new Monte Carlo simulation, what are the lower and upper bounds for the expected value of the portfolio (with the new weights) with a 95% confidence interval?"
   ]
  },
  {
   "cell_type": "code",
   "execution_count": null,
   "metadata": {},
   "outputs": [],
   "source": [
    "# Print the current balance of the stock and bond portion of the members portfolio\n",
    "# YOUR CODE HERE\n"
   ]
  },
  {
   "cell_type": "code",
   "execution_count": null,
   "metadata": {},
   "outputs": [],
   "source": [
    "# Use the lower and upper `95%` confidence intervals to calculate the range of the possible outcomes for the current stock/bond portfolio\n",
    "ci_lower_ten_cumulative_return = # YOUR CODE HERE\n",
    "ci_upper_ten_cumulative_return = # YOUR CODE HERE\n",
    "\n",
    "# Print the result of your calculations\n",
    "# YOUR CODE HERE\n"
   ]
  },
  {
   "cell_type": "markdown",
   "metadata": {},
   "source": [
    "#### Question: Will weighting the portfolio more heavily to stocks allow the credit union members to retire after only 10 years?"
   ]
  },
  {
   "cell_type": "raw",
   "metadata": {},
   "source": [
    "**Answer** # YOUR ANSWER HERE"
   ]
  },
  {
   "cell_type": "code",
   "execution_count": null,
   "metadata": {},
   "outputs": [],
   "source": []
  }
 ],
 "metadata": {
  "kernelspec": {
   "display_name": "Python 3 (ipykernel)",
   "language": "python",
   "name": "python3"
  },
  "language_info": {
   "codemirror_mode": {
    "name": "ipython",
    "version": 3
   },
   "file_extension": ".py",
   "mimetype": "text/x-python",
   "name": "python",
   "nbconvert_exporter": "python",
   "pygments_lexer": "ipython3",
   "version": "3.7.15"
  }
 },
 "nbformat": 4,
 "nbformat_minor": 4
}
